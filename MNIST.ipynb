{
 "cells": [
  {
   "cell_type": "code",
   "execution_count": 1,
   "id": "707d4983",
   "metadata": {},
   "outputs": [
    {
     "name": "stdout",
     "output_type": "stream",
     "text": [
      "Using cuda device\n"
     ]
    }
   ],
   "source": [
    "import pandas as pd\n",
    "from sklearn.model_selection import train_test_split\n",
    "from sklearn.neighbors import KNeighborsClassifier\n",
    "\n",
    "import torch\n",
    "from torch import nn, optim\n",
    "from torch.utils.data import Dataset, DataLoader\n",
    "from torch import nn\n",
    "\n",
    "from tqdm import tqdm\n",
    "device = 'cuda' if torch.cuda.is_available() else 'cpu'\n",
    "print(f'Using {device} device')"
   ]
  },
  {
   "cell_type": "code",
   "execution_count": 2,
   "id": "85025aba",
   "metadata": {},
   "outputs": [],
   "source": [
    "data_train = pd.read_csv(\"digit-recognizer/train.csv\")\n",
    "data_test = pd.read_csv(\"digit-recognizer/test.csv\")"
   ]
  },
  {
   "cell_type": "code",
   "execution_count": 3,
   "id": "f31378fb",
   "metadata": {},
   "outputs": [],
   "source": [
    "data_train.head()\n",
    "data_test.head()\n",
    "\n",
    "y_train = data_train[\"label\"]"
   ]
  },
  {
   "cell_type": "code",
   "execution_count": 4,
   "id": "49725e29",
   "metadata": {},
   "outputs": [
    {
     "name": "stdout",
     "output_type": "stream",
     "text": [
      "None\n"
     ]
    }
   ],
   "source": [
    "labels = y_train.unique().sort()\n",
    "print(labels)"
   ]
  },
  {
   "cell_type": "code",
   "execution_count": 5,
   "id": "e6b8d5e8",
   "metadata": {},
   "outputs": [],
   "source": [
    "X_train = data_train.drop(\"label\", axis = 1)\n",
    "X_test = data_test"
   ]
  },
  {
   "cell_type": "code",
   "execution_count": 6,
   "id": "b43a5306",
   "metadata": {},
   "outputs": [],
   "source": [
    "knn = KNeighborsClassifier(n_neighbors=10)"
   ]
  },
  {
   "cell_type": "code",
   "execution_count": 7,
   "id": "d1fdb319",
   "metadata": {},
   "outputs": [
    {
     "data": {
      "text/plain": [
       "KNeighborsClassifier(n_neighbors=10)"
      ]
     },
     "execution_count": 7,
     "metadata": {},
     "output_type": "execute_result"
    }
   ],
   "source": [
    "knn.fit(X_train, y_train)"
   ]
  },
  {
   "cell_type": "code",
   "execution_count": 8,
   "id": "4aac336f",
   "metadata": {},
   "outputs": [],
   "source": [
    "#KNN_predict = knn.predict(X_test)\n",
    "#KNN_predict"
   ]
  },
  {
   "cell_type": "code",
   "execution_count": 9,
   "id": "9d333194",
   "metadata": {},
   "outputs": [],
   "source": [
    "class NeuralNetwork(nn.Module):\n",
    "    def __init__(self, embedding_size, count_labels):\n",
    "        super(NeuralNetwork, self).__init__()\n",
    "        self.linear_relu_stack = nn.Sequential(\n",
    "            nn.Linear(embedding_size, 1024),\n",
    "            nn.ReLU(),\n",
    "            nn.Linear(1024, 1024),\n",
    "            nn.ReLU(),\n",
    "            nn.Linear(1024, 1024),\n",
    "            nn.ReLU(),\n",
    "            nn.Linear(1024, 1024),\n",
    "            nn.ReLU(),\n",
    "            nn.Linear(1024, 1024),\n",
    "            nn.ReLU(),\n",
    "            nn.Linear(1024, 512),\n",
    "            nn.ReLU(),\n",
    "            nn.Linear(512, 256),\n",
    "            nn.ReLU(),\n",
    "            nn.Linear(256, 128),\n",
    "            nn.ReLU(),\n",
    "            nn.Linear(128, count_labels),\n",
    "            nn.Softmax(dim=1)\n",
    "        )\n",
    "        \n",
    "    def forward(self, x):\n",
    "        x = self.linear_relu_stack(x)\n",
    "        #return torch.argmax(x, dim = 1)\n",
    "        return x"
   ]
  },
  {
   "cell_type": "code",
   "execution_count": 10,
   "id": "c90c9f62",
   "metadata": {},
   "outputs": [],
   "source": [
    "class MNIST_Train_Dataset(Dataset):\n",
    "    def __init__(self, mnist, labels):\n",
    "        self.mnist = mnist\n",
    "        self.labels = labels\n",
    "    \n",
    "    def __len__(self):\n",
    "        return len(self.mnist)\n",
    "    \n",
    "    def __getitem__(self, idx):\n",
    "        return self.mnist[idx], self.labels[idx]\n",
    "    \n",
    "class MNIST_valid_Dataset(Dataset):\n",
    "    def __init__(self, mnist):\n",
    "        self.mnist = mnist\n",
    "    \n",
    "    def __len__(self):\n",
    "        return len(self.mnist)\n",
    "    \n",
    "    def __getitem__(self, idx):\n",
    "        return self.mnist[idx]"
   ]
  },
  {
   "cell_type": "code",
   "execution_count": 11,
   "id": "b2bb7ac4",
   "metadata": {},
   "outputs": [],
   "source": [
    "train_tensor = torch.tensor(X_train.values, dtype = torch.float).to(device)\n",
    "labels_tensor = torch.tensor(y_train).to(device)\n",
    "\n",
    "test_tensor = torch.tensor(X_test.values, dtype = torch.float).to(device)\n",
    "\n",
    "train_dataset = MNIST_Train_Dataset(train_tensor, labels_tensor)\n",
    "test_dataset = MNIST_valid_Dataset(test_tensor)\n",
    "\n",
    "train_dataloader = DataLoader(train_dataset, batch_size=8, shuffle=True)\n",
    "test_dataloader = DataLoader(test_dataset, batch_size=8, shuffle=True)"
   ]
  },
  {
   "cell_type": "code",
   "execution_count": 12,
   "id": "f234ecc4",
   "metadata": {},
   "outputs": [],
   "source": [
    "embedding_size = X_train.shape[1]\n",
    "model = NeuralNetwork(embedding_size, 10).to(device)"
   ]
  },
  {
   "cell_type": "code",
   "execution_count": 13,
   "id": "8916bb92",
   "metadata": {},
   "outputs": [],
   "source": [
    "num_epochs = 2\n",
    "\n",
    "loss_fn = nn.CrossEntropyLoss()\n",
    "optimizer = optim.SGD(model.parameters(), lr=0.001, momentum=0.9)"
   ]
  },
  {
   "cell_type": "code",
   "execution_count": 14,
   "id": "7b789ce9",
   "metadata": {},
   "outputs": [],
   "source": [
    "def normalize(x, Min=0, Max=9):\n",
    "    return (x - Min) / (Max - Min)"
   ]
  },
  {
   "cell_type": "code",
   "execution_count": 15,
   "id": "59cbc252",
   "metadata": {},
   "outputs": [
    {
     "name": "stdout",
     "output_type": "stream",
     "text": [
      "Epoch N°0\n"
     ]
    },
    {
     "name": "stderr",
     "output_type": "stream",
     "text": [
      "100%|███████████████████████████████████████████████████████████████| 5250/5250 [00:12<00:00, 420.86it/s]\n"
     ]
    },
    {
     "name": "stdout",
     "output_type": "stream",
     "text": [
      "Loss: 0.22108569741249084\n",
      "Epoch N°1\n"
     ]
    },
    {
     "name": "stderr",
     "output_type": "stream",
     "text": [
      "100%|███████████████████████████████████████████████████████████████| 5250/5250 [00:12<00:00, 420.66it/s]\n"
     ]
    },
    {
     "name": "stdout",
     "output_type": "stream",
     "text": [
      "Loss: 0.19227007031440735\n"
     ]
    }
   ],
   "source": [
    "for epoch in range(num_epochs):\n",
    "    print(\"Epoch N°{}\".format(epoch))\n",
    "    LOSS = 0\n",
    "    for idx, (data, label) in enumerate(tqdm(train_dataloader)):\n",
    "        pred = model(data)\n",
    "\n",
    "        loss = loss_fn(pred, label)\n",
    "        LOSS += loss\n",
    "        optimizer.zero_grad()\n",
    "        loss.backward()\n",
    "\n",
    "        optimizer.step()\n",
    "\n",
    "    print(\"Loss: {}\".format(LOSS/X_train.shape[0]))"
   ]
  },
  {
   "cell_type": "code",
   "execution_count": 16,
   "id": "f68b623e",
   "metadata": {},
   "outputs": [
    {
     "name": "stdout",
     "output_type": "stream",
     "text": [
      "tensor([[ 0.6588, -1.1348, -0.8381, -2.2784, -0.6839],\n",
      "        [-0.1733,  0.2359, -0.2663, -2.5456, -1.8658],\n",
      "        [ 0.0489, -0.6432, -0.6507,  0.3372,  0.0722]], requires_grad=True)\n",
      "tensor([3, 3, 3])\n"
     ]
    }
   ],
   "source": [
    "loss = nn.CrossEntropyLoss()\n",
    "input = torch.randn(3, 5, requires_grad=True)\n",
    "target = torch.empty(3, dtype=torch.long).random_(5)\n",
    "\n",
    "print(input)\n",
    "print(target)\n",
    "output = loss(input, target)\n",
    "output.backward()\n",
    "\n",
    "# Example of target with class probabilities\n",
    "input = torch.randn(3, 5, requires_grad=True)\n",
    "target = torch.randn(3, 5).softmax(dim=1)\n",
    "output = loss(input, target)\n",
    "output.backward()"
   ]
  },
  {
   "cell_type": "code",
   "execution_count": 17,
   "id": "8264c021",
   "metadata": {},
   "outputs": [],
   "source": [
    "X, y=next(iter(train_dataloader))"
   ]
  },
  {
   "cell_type": "code",
   "execution_count": 18,
   "id": "11ad8d65",
   "metadata": {},
   "outputs": [
    {
     "name": "stdout",
     "output_type": "stream",
     "text": [
      "tensor([[7.2035e-11, 9.3152e-10, 1.7273e-13, 7.4093e-10, 9.1358e-09, 2.5048e-08,\n",
      "         4.5772e-13, 1.0000e+00, 1.5405e-12, 1.7756e-06],\n",
      "        [5.6225e-11, 1.0719e-07, 9.5170e-10, 8.2263e-09, 5.9568e-05, 2.9116e-08,\n",
      "         5.0698e-12, 3.3487e-08, 1.2725e-06, 9.9994e-01],\n",
      "        [1.4147e-18, 6.7881e-17, 2.4620e-14, 1.3955e-21, 1.0000e+00, 6.9958e-15,\n",
      "         3.9845e-15, 1.2582e-14, 4.4470e-20, 3.1670e-14],\n",
      "        [5.4103e-05, 1.3676e-05, 6.9164e-07, 1.0480e-05, 3.5135e-02, 9.8149e-03,\n",
      "         7.8145e-06, 9.4766e-01, 1.0473e-06, 7.3053e-03],\n",
      "        [3.5495e-07, 1.2929e-14, 4.3157e-11, 4.9695e-09, 1.0124e-08, 1.0000e+00,\n",
      "         3.9804e-07, 2.8078e-09, 3.6590e-09, 7.7996e-11],\n",
      "        [6.4066e-11, 1.9587e-12, 1.0000e+00, 9.9720e-11, 4.1182e-14, 4.2781e-16,\n",
      "         1.0766e-12, 4.7056e-16, 4.4998e-15, 1.3126e-17],\n",
      "        [6.2599e-08, 5.4010e-09, 1.2755e-07, 1.7897e-11, 1.0367e-04, 5.3497e-07,\n",
      "         9.9990e-01, 2.4046e-10, 1.0279e-09, 9.9027e-13],\n",
      "        [2.7132e-10, 6.5997e-09, 1.3160e-07, 1.7476e-06, 1.2889e-09, 1.7175e-05,\n",
      "         2.8201e-09, 2.4891e-11, 9.9997e-01, 6.8575e-06]], device='cuda:0',\n",
      "       grad_fn=<SoftmaxBackward0>)\n",
      "tensor([7, 9, 4, 7, 5, 2, 6, 8], device='cuda:0')\n",
      "tensor([7, 9, 4, 7, 5, 2, 6, 8], device='cuda:0')\n"
     ]
    }
   ],
   "source": [
    "val = model(X)\n",
    "result = torch.argmax(val, dim = 1)\n",
    "print(val)\n",
    "print(result)\n",
    "print(y)"
   ]
  }
 ],
 "metadata": {
  "kernelspec": {
   "display_name": "Python 3 (ipykernel)",
   "language": "python",
   "name": "python3"
  },
  "language_info": {
   "codemirror_mode": {
    "name": "ipython",
    "version": 3
   },
   "file_extension": ".py",
   "mimetype": "text/x-python",
   "name": "python",
   "nbconvert_exporter": "python",
   "pygments_lexer": "ipython3",
   "version": "3.8.10"
  }
 },
 "nbformat": 4,
 "nbformat_minor": 5
}
